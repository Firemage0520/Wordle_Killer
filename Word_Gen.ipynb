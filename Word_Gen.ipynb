{
 "cells": [
  {
   "cell_type": "code",
   "execution_count": 1,
   "id": "buried-howard",
   "metadata": {},
   "outputs": [],
   "source": [
    "using DelimitedFiles"
   ]
  },
  {
   "cell_type": "code",
   "execution_count": 2,
   "id": "abstract-nutrition",
   "metadata": {},
   "outputs": [
    {
     "data": {
      "text/plain": [
       "233464×1 Matrix{String}:\n",
       " \"a\"\n",
       " \"a-\"\n",
       " \"a2 level\"\n",
       " \"a3\"\n",
       " \"a4\"\n",
       " \"a5\"\n",
       " \"aaa\"\n",
       " \"aaas\"\n",
       " \"aad\"\n",
       " \"aadhaar\"\n",
       " \"aam\"\n",
       " \"a — and a half\"\n",
       " \"aapa\"\n",
       " ⋮\n",
       " \"car-jacked\"\n",
       " \"cd-roms\"\n",
       " \"cdroms\"\n",
       " \"crap-shoot\"\n",
       " \"crap-shoots\"\n",
       " \"credit-worthy\"\n",
       " \"'cuz\"\n",
       " \"cuzes\"\n",
       " \"dirt-bag\"\n",
       " \"dirt-bags\"\n",
       " \"-meister\"\n",
       " \"acne rosacea\""
      ]
     },
     "execution_count": 2,
     "metadata": {},
     "output_type": "execute_result"
    }
   ],
   "source": [
    "all_words = readdlm(\"english_words.txt\", '\\n', String)"
   ]
  },
  {
   "cell_type": "code",
   "execution_count": 29,
   "id": "provincial-fifteen",
   "metadata": {},
   "outputs": [
    {
     "data": {
      "text/plain": [
       "acceptable_word (generic function with 1 method)"
      ]
     },
     "execution_count": 29,
     "metadata": {},
     "output_type": "execute_result"
    }
   ],
   "source": [
    "function acceptable_word(word)\n",
    "    if length(word) != 5\n",
    "        return false\n",
    "    end\n",
    "    if all([letter in [char for char in 'a':'z'] for letter in word])\n",
    "        return true\n",
    "    else\n",
    "        return false\n",
    "    end\n",
    "end"
   ]
  },
  {
   "cell_type": "code",
   "execution_count": 30,
   "id": "professional-deviation",
   "metadata": {},
   "outputs": [],
   "source": [
    "five_lettr_words = String[]\n",
    "for word in all_words\n",
    "    if acceptable_word(word)\n",
    "        push!(five_lettr_words, word)\n",
    "    end\n",
    "end"
   ]
  },
  {
   "cell_type": "code",
   "execution_count": 31,
   "id": "precise-frontier",
   "metadata": {},
   "outputs": [],
   "source": [
    "writedlm(\"5_letter_words.txt\", five_lettr_words, '\\n')"
   ]
  },
  {
   "cell_type": "code",
   "execution_count": 99,
   "id": "interior-slope",
   "metadata": {},
   "outputs": [
    {
     "name": "stderr",
     "output_type": "stream",
     "text": [
      "WARNING: replacing module Wordle.\n"
     ]
    },
    {
     "data": {
      "text/plain": [
       "Main.WordleKiller"
      ]
     },
     "execution_count": 99,
     "metadata": {},
     "output_type": "execute_result"
    },
    {
     "name": "stderr",
     "output_type": "stream",
     "text": [
      "WARNING: replacing module WordleKiller.\n"
     ]
    }
   ],
   "source": [
    "include(\"wordle.jl\")\n",
    "include(\"WordleKiller.jl\")"
   ]
  },
  {
   "cell_type": "code",
   "execution_count": 97,
   "id": "egyptian-judges",
   "metadata": {},
   "outputs": [
    {
     "name": "stdout",
     "output_type": "stream",
     "text": [
      "Algorithm won! Target word was shnor\n",
      "\n",
      "The guesses made were:\n",
      "\n",
      "Round 1: esses\n",
      "Round 2: aorta\n",
      "Round 3: onion\n",
      "Round 4: spoor\n",
      "Round 5: shnor\n"
     ]
    },
    {
     "data": {
      "text/plain": [
       "(true, 5)"
      ]
     },
     "execution_count": 97,
     "metadata": {},
     "output_type": "execute_result"
    }
   ],
   "source": [
    "WordleKiller.play_one_game()"
   ]
  },
  {
   "cell_type": "code",
   "execution_count": 98,
   "id": "blond-carter",
   "metadata": {},
   "outputs": [],
   "source": [
    "using PyPlot"
   ]
  },
  {
   "cell_type": "code",
   "execution_count": 100,
   "id": "dried-venue",
   "metadata": {},
   "outputs": [
    {
     "name": "stdout",
     "output_type": "stream",
     "text": [
      "Winrate is 0.41\n"
     ]
    }
   ],
   "source": [
    "wins = 0\n",
    "losses = 0\n",
    "for i in 1:10000\n",
    "    a_win, rounds = WordleKiller.play_one_game(false)\n",
    "    if a_win\n",
    "        wins += 1\n",
    "    else\n",
    "        losses += 1\n",
    "    end\n",
    "end\n",
    "WR = wins/(wins+losses)\n",
    "println(\"Winrate is $WR\")"
   ]
  }
 ],
 "metadata": {
  "kernelspec": {
   "display_name": "Julia 1.6.2",
   "language": "julia",
   "name": "julia-1.6"
  },
  "language_info": {
   "file_extension": ".jl",
   "mimetype": "application/julia",
   "name": "julia",
   "version": "1.6.2"
  }
 },
 "nbformat": 4,
 "nbformat_minor": 5
}
