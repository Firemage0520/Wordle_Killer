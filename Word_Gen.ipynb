{
 "cells": [
  {
   "cell_type": "code",
   "execution_count": 1,
   "id": "buried-howard",
   "metadata": {},
   "outputs": [],
   "source": [
    "using DelimitedFiles\n",
    "using PyPlot\n",
    "using Random"
   ]
  },
  {
   "cell_type": "code",
   "execution_count": 2,
   "id": "abstract-nutrition",
   "metadata": {},
   "outputs": [],
   "source": [
    "all_words = readdlm(\"english_words.txt\", '\\n', String);"
   ]
  },
  {
   "cell_type": "code",
   "execution_count": 3,
   "id": "provincial-fifteen",
   "metadata": {},
   "outputs": [
    {
     "data": {
      "text/plain": [
       "acceptable_word (generic function with 1 method)"
      ]
     },
     "execution_count": 3,
     "metadata": {},
     "output_type": "execute_result"
    }
   ],
   "source": [
    "function acceptable_word(word)\n",
    "    if length(word) != 5\n",
    "        return false\n",
    "    end\n",
    "    if all([letter in [char for char in 'a':'z'] for letter in word])\n",
    "        return true\n",
    "    else\n",
    "        return false\n",
    "    end\n",
    "end"
   ]
  },
  {
   "cell_type": "code",
   "execution_count": 4,
   "id": "professional-deviation",
   "metadata": {},
   "outputs": [],
   "source": [
    "five_lettr_words = String[]\n",
    "for word in all_words\n",
    "    if acceptable_word(word)\n",
    "        push!(five_lettr_words, word)\n",
    "    end\n",
    "end"
   ]
  },
  {
   "cell_type": "code",
   "execution_count": 5,
   "id": "proud-medicare",
   "metadata": {},
   "outputs": [],
   "source": [
    "writedlm(\"5_letter_words.txt\", five_lettr_words, '\\n')"
   ]
  },
  {
   "cell_type": "code",
   "execution_count": 64,
   "id": "meaningful-relationship",
   "metadata": {},
   "outputs": [
    {
     "name": "stderr",
     "output_type": "stream",
     "text": [
      "WARNING: replacing module Wordle.\n",
      "WARNING: replacing module WordleKiller.\n"
     ]
    },
    {
     "data": {
      "text/plain": [
       "Main.WordleKiller"
      ]
     },
     "execution_count": 64,
     "metadata": {},
     "output_type": "execute_result"
    }
   ],
   "source": [
    "include(\"wordle.jl\")\n",
    "include(\"WordleKiller.jl\")"
   ]
  },
  {
   "cell_type": "code",
   "execution_count": 52,
   "id": "champion-agency",
   "metadata": {},
   "outputs": [
    {
     "name": "stdout",
     "output_type": "stream",
     "text": [
      "Algorithm won! Target word was dried\n",
      "\n",
      "The guesses made were:\n",
      "\n",
      "Round 1: timer\n",
      "Round 2: doled\n",
      "Round 3: dared\n",
      "Round 4: dewed\n",
      "Round 5: duped\n",
      "Round 6: dried\n"
     ]
    },
    {
     "data": {
      "text/plain": [
       "(true, 6)"
      ]
     },
     "execution_count": 52,
     "metadata": {},
     "output_type": "execute_result"
    }
   ],
   "source": [
    "WordleKiller.play_one_game(guess_alg = WordleKiller.random_guess)"
   ]
  },
  {
   "cell_type": "code",
   "execution_count": 53,
   "id": "human-portuguese",
   "metadata": {},
   "outputs": [
    {
     "data": {
      "image/png": "[encoded data removed]",
      "text/plain": [
       "Figure(PyObject <Figure size 640x480 with 1 Axes>)"
      ]
     },
     "metadata": {},
     "output_type": "display_data"
    },
    {
     "name": "stdout",
     "output_type": "stream",
     "text": [
      "Winrate is 0.7203\n"
     ]
    },
    {
     "data": {
      "text/plain": [
       "([1.0, 51.0, 0.0, 393.0, 0.0, 1329.0, 2731.0, 0.0, 2698.0, 2797.0], [1.0, 1.6, 2.2, 2.8, 3.4, 4.0, 4.6, 5.2, 5.8, 6.3999999999999995, 7.0], (PyObject <matplotlib.patches.Rectangle object at 0x000000000123F3D0>, PyObject <matplotlib.patches.Rectangle object at 0x000000000123F250>, PyObject <matplotlib.patches.Rectangle object at 0x000000000123F8B0>, PyObject <matplotlib.patches.Rectangle object at 0x000000000123FB80>, PyObject <matplotlib.patches.Rectangle object at 0x000000000123FE50>, PyObject <matplotlib.patches.Rectangle object at 0x000000000124B160>, PyObject <matplotlib.patches.Rectangle object at 0x000000000124B430>, PyObject <matplotlib.patches.Rectangle object at 0x000000000124B700>, PyObject <matplotlib.patches.Rectangle object at 0x000000000124B9D0>, PyObject <matplotlib.patches.Rectangle object at 0x000000000124BCA0>))"
      ]
     },
     "execution_count": 53,
     "metadata": {},
     "output_type": "execute_result"
    }
   ],
   "source": [
    "wins = 0\n",
    "losses = 0\n",
    "rounds_dist = []\n",
    "for i in 1:10000\n",
    "    a_win, rounds = WordleKiller.play_one_game(false, guess_alg = WordleKiller.random_guess)\n",
    "    push!(rounds_dist, rounds)\n",
    "    if a_win\n",
    "        wins += 1\n",
    "    else\n",
    "        losses += 1\n",
    "    end\n",
    "end\n",
    "WR = wins/(wins+losses)\n",
    "println(\"Winrate is $WR\")\n",
    "hist(rounds_dist)"
   ]
  },
  {
   "cell_type": "code",
   "execution_count": 54,
   "id": "greek-favor",
   "metadata": {},
   "outputs": [
    {
     "data": {
      "text/plain": [
       "generate_random_database (generic function with 1 method)"
      ]
     },
     "execution_count": 54,
     "metadata": {},
     "output_type": "execute_result"
    }
   ],
   "source": [
    "function generate_random_database(N)\n",
    "    database = String[]\n",
    "    for i in 1:N\n",
    "        str = \"\"\n",
    "        found_str = false\n",
    "        while !found_str\n",
    "            str = randstring('a':'z', 5)\n",
    "            if !(str in database)\n",
    "                found_str = true\n",
    "            end\n",
    "        end\n",
    "        push!(database, str)\n",
    "    end\n",
    "    return database\n",
    "end"
   ]
  },
  {
   "cell_type": "code",
   "execution_count": null,
   "id": "experienced-chester",
   "metadata": {},
   "outputs": [],
   "source": [
    "DB_sizes = collect(1000:1000:100000)\n",
    "WRs = zeros(length(DB_sizes))\n",
    "for (n, N) in enumerate(DB_sizes)\n",
    "    wins = 0\n",
    "    losses = 0\n",
    "    database = generate_random_database(N)\n",
    "    for i in 1:10000\n",
    "        a_win, rounds = WordleKiller.play_one_game(false, database = database, guess_alg = WordleKiller.random_word)\n",
    "        if a_win\n",
    "            wins += 1\n",
    "        else\n",
    "            losses += 1\n",
    "        end\n",
    "    end\n",
    "    WRs[n] = wins/(wins+losses)\n",
    "end"
   ]
  },
  {
   "cell_type": "code",
   "execution_count": null,
   "id": "unauthorized-money",
   "metadata": {},
   "outputs": [],
   "source": [
    "plot(DB_sizes, WRs)\n",
    "xlabel(\"Database Size\")\n",
    "ylabel(\"Winrate\")\n",
    "title(\"Random Selection Algorithm\")"
   ]
  }
 ],
 "metadata": {
  "kernelspec": {
   "display_name": "Julia 1.6.2",
   "language": "julia",
   "name": "julia-1.6"
  },
  "language_info": {
   "file_extension": ".jl",
   "mimetype": "application/julia",
   "name": "julia",
   "version": "1.6.2"
  }
 },
 "nbformat": 4,
 "nbformat_minor": 5
}
