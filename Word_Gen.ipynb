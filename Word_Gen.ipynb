{
 "cells": [
  {
   "cell_type": "code",
   "execution_count": 1,
   "id": "buried-howard",
   "metadata": {},
   "outputs": [],
   "source": [
    "using DelimitedFiles"
   ]
  },
  {
   "cell_type": "code",
   "execution_count": 10,
   "id": "abstract-nutrition",
   "metadata": {},
   "outputs": [
    {
     "data": {
      "text/plain": [
       "233464×1 Matrix{String}:\n",
       " \"a\"\n",
       " \"a-\"\n",
       " \"a2 level\"\n",
       " \"a3\"\n",
       " \"a4\"\n",
       " \"a5\"\n",
       " \"aaa\"\n",
       " \"aaas\"\n",
       " \"aad\"\n",
       " \"aadhaar\"\n",
       " \"aam\"\n",
       " \"a — and a half\"\n",
       " \"aapa\"\n",
       " ⋮\n",
       " \"car-jacked\"\n",
       " \"cd-roms\"\n",
       " \"cdroms\"\n",
       " \"crap-shoot\"\n",
       " \"crap-shoots\"\n",
       " \"credit-worthy\"\n",
       " \"'cuz\"\n",
       " \"cuzes\"\n",
       " \"dirt-bag\"\n",
       " \"dirt-bags\"\n",
       " \"-meister\"\n",
       " \"acne rosacea\""
      ]
     },
     "execution_count": 10,
     "metadata": {},
     "output_type": "execute_result"
    }
   ],
   "source": [
    "all_words = readdlm(\"english_words.txt\", '\\n', String)"
   ]
  },
  {
   "cell_type": "code",
   "execution_count": 29,
   "id": "provincial-fifteen",
   "metadata": {},
   "outputs": [
    {
     "data": {
      "text/plain": [
       "acceptable_word (generic function with 1 method)"
      ]
     },
     "execution_count": 29,
     "metadata": {},
     "output_type": "execute_result"
    }
   ],
   "source": [
    "function acceptable_word(word)\n",
    "    if length(word) != 5\n",
    "        return false\n",
    "    end\n",
    "    allowable_letters = ['a', 'b', 'c', 'd', 'e', 'f', 'g', 'h', 'i', 'j', 'k', 'l', 'm', 'n', 'o', 'p', 'q', 'r', 's', 't', 'u', 'v', 'w', 'x', 'y', 'z']\n",
    "    for char in word\n",
    "        if char in allowable_letters\n",
    "            continue\n",
    "        else\n",
    "            return false\n",
    "        end\n",
    "    end\n",
    "    return true\n",
    "end"
   ]
  },
  {
   "cell_type": "code",
   "execution_count": 30,
   "id": "professional-deviation",
   "metadata": {},
   "outputs": [],
   "source": [
    "five_lettr_words = String[]\n",
    "for word in all_words\n",
    "    if acceptable_word(word)\n",
    "        push!(five_lettr_words, word)\n",
    "    end\n",
    "end"
   ]
  },
  {
   "cell_type": "code",
   "execution_count": 32,
   "id": "international-science",
   "metadata": {},
   "outputs": [],
   "source": [
    "writedlm(\"5_letter_words.txt\", five_lettr_words, '\\t')"
   ]
  }
 ],
 "metadata": {
  "kernelspec": {
   "display_name": "Julia 1.6.2",
   "language": "julia",
   "name": "julia-1.6"
  },
  "language_info": {
   "file_extension": ".jl",
   "mimetype": "application/julia",
   "name": "julia",
   "version": "1.6.2"
  }
 },
 "nbformat": 4,
 "nbformat_minor": 5
}
