{
 "cells": [
  {
   "cell_type": "code",
   "execution_count": 1,
   "id": "buried-howard",
   "metadata": {},
   "outputs": [],
   "source": [
    "using DelimitedFiles"
   ]
  },
  {
   "cell_type": "code",
   "execution_count": 2,
   "id": "abstract-nutrition",
   "metadata": {},
   "outputs": [
    {
     "data": {
      "text/plain": [
       "233464×1 Matrix{String}:\n",
       " \"a\"\n",
       " \"a-\"\n",
       " \"a2 level\"\n",
       " \"a3\"\n",
       " \"a4\"\n",
       " \"a5\"\n",
       " \"aaa\"\n",
       " \"aaas\"\n",
       " \"aad\"\n",
       " \"aadhaar\"\n",
       " \"aam\"\n",
       " \"a — and a half\"\n",
       " \"aapa\"\n",
       " ⋮\n",
       " \"car-jacked\"\n",
       " \"cd-roms\"\n",
       " \"cdroms\"\n",
       " \"crap-shoot\"\n",
       " \"crap-shoots\"\n",
       " \"credit-worthy\"\n",
       " \"'cuz\"\n",
       " \"cuzes\"\n",
       " \"dirt-bag\"\n",
       " \"dirt-bags\"\n",
       " \"-meister\"\n",
       " \"acne rosacea\""
      ]
     },
     "execution_count": 2,
     "metadata": {},
     "output_type": "execute_result"
    }
   ],
   "source": [
    "all_words = readdlm(\"english_words.txt\", '\\n', String)"
   ]
  },
  {
   "cell_type": "code",
   "execution_count": 29,
   "id": "provincial-fifteen",
   "metadata": {},
   "outputs": [
    {
     "data": {
      "text/plain": [
       "acceptable_word (generic function with 1 method)"
      ]
     },
     "execution_count": 29,
     "metadata": {},
     "output_type": "execute_result"
    }
   ],
   "source": [
    "function acceptable_word(word)\n",
    "    if length(word) != 5\n",
    "        return false\n",
    "    end\n",
    "    if all([letter in [char for char in 'a':'z'] for letter in word])\n",
    "        return true\n",
    "    else\n",
    "        return false\n",
    "    end\n",
    "end"
   ]
  },
  {
   "cell_type": "code",
   "execution_count": 30,
   "id": "professional-deviation",
   "metadata": {},
   "outputs": [],
   "source": [
    "five_lettr_words = String[]\n",
    "for word in all_words\n",
    "    if acceptable_word(word)\n",
    "        push!(five_lettr_words, word)\n",
    "    end\n",
    "end"
   ]
  },
  {
   "cell_type": "code",
   "execution_count": 31,
   "id": "described-relay",
   "metadata": {},
   "outputs": [],
   "source": [
    "writedlm(\"5_letter_words.txt\", five_lettr_words, '\\n')"
   ]
  },
  {
   "cell_type": "code",
   "execution_count": 38,
   "id": "guilty-hardware",
   "metadata": {},
   "outputs": [
    {
     "name": "stderr",
     "output_type": "stream",
     "text": [
      "WARNING: replacing module Wordle.\n"
     ]
    },
    {
     "data": {
      "text/plain": [
       "Main.Wordle"
      ]
     },
     "execution_count": 38,
     "metadata": {},
     "output_type": "execute_result"
    }
   ],
   "source": [
    "include(\"wordle.jl\")"
   ]
  },
  {
   "cell_type": "code",
   "execution_count": null,
   "id": "unable-least",
   "metadata": {},
   "outputs": [
    {
     "name": "stdout",
     "output_type": "stream",
     "text": [
      "\n",
      "Round 1\n",
      "\n",
      "Unguessed Letters: ABCDEFGHIJKLMNOPQRSTUVWXYZ\n",
      "\n",
      "Guess a 5 letter word:\n",
      "stdin> alien\n",
      "\n",
      "Correct Letters (Wrong Location): IN\n",
      "Correct Letters (Right Location): \n",
      "Incorrect Letters: AEL\n",
      "\n",
      "Round 2\n",
      "\n",
      "Unguessed Letters: BCDFGHJKMOPQRSTUVWXYZ\n",
      "\n",
      "Guess a 5 letter word:\n",
      "stdin> night\n",
      "\n",
      "Correct Letters (Wrong Location): IN\n",
      "Correct Letters (Right Location): \n",
      "Incorrect Letters: GHT\n",
      "\n",
      "Round 3\n",
      "\n",
      "Unguessed Letters: BCDFJKMOPQRSUVWXYZ\n",
      "\n",
      "Guess a 5 letter word:\n",
      "stdin> porus\n",
      "Word not in database, guess again\n",
      "\n",
      "Round 3\n",
      "\n",
      "Unguessed Letters: BCDFJKMOPQRSUVWXYZ\n",
      "\n",
      "Guess a 5 letter word:\n",
      "stdin> beats\n",
      "\n",
      "Correct Letters (Wrong Location): \n",
      "Correct Letters (Right Location): \n",
      "Incorrect Letters: ABEST\n",
      "\n",
      "Round 4\n",
      "\n",
      "Unguessed Letters: CDFJKMOPQRUVWXYZ\n",
      "\n",
      "Guess a 5 letter word:\n",
      "stdin> rouse\n",
      "\n",
      "Correct Letters (Wrong Location): RU\n",
      "Correct Letters (Right Location): \n",
      "Incorrect Letters: EOS\n",
      "\n",
      "Round 5\n",
      "\n",
      "Unguessed Letters: CDFJKMPQVWXYZ\n",
      "\n",
      "Guess a 5 letter word:\n",
      "stdin> urine\n",
      "\n",
      "Correct Letters (Wrong Location): INRU\n",
      "Correct Letters (Right Location): \n",
      "Incorrect Letters: E\n",
      "\n",
      "Round 6\n",
      "\n",
      "Unguessed Letters: CDFJKMPQVWXYZ\n",
      "\n",
      "Guess a 5 letter word:\n"
     ]
    }
   ],
   "source": [
    "Wordle.play()"
   ]
  }
 ],
 "metadata": {
  "kernelspec": {
   "display_name": "Julia 1.6.2",
   "language": "julia",
   "name": "julia-1.6"
  },
  "language_info": {
   "file_extension": ".jl",
   "mimetype": "application/julia",
   "name": "julia",
   "version": "1.6.2"
  }
 },
 "nbformat": 4,
 "nbformat_minor": 5
}
